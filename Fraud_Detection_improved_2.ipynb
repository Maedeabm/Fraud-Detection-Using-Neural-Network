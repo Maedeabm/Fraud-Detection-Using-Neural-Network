{
  "nbformat": 4,
  "nbformat_minor": 0,
  "metadata": {
    "colab": {
      "provenance": [],
      "authorship_tag": "ABX9TyOdqQw2efhF7NetB2cr3G3S",
      "include_colab_link": true
    },
    "kernelspec": {
      "name": "python3",
      "display_name": "Python 3"
    },
    "language_info": {
      "name": "python"
    }
  },
  "cells": [
    {
      "cell_type": "markdown",
      "metadata": {
        "id": "view-in-github",
        "colab_type": "text"
      },
      "source": [
        "<a href=\"https://colab.research.google.com/github/Maedeabm/Fraud-Detection-Using-Neural-Network/blob/main/Fraud_Detection_improved_2.ipynb\" target=\"_parent\"><img src=\"https://colab.research.google.com/assets/colab-badge.svg\" alt=\"Open In Colab\"/></a>"
      ]
    },
    {
      "cell_type": "markdown",
      "source": [
        "To improve the detection of those sneaky unicorns (fraudulent transactions), let's deploy a series of enhanced techniques and strategies. Here's a plan of action:\n",
        "1. Class Imbalance Solutions:\n",
        "\n",
        "Your dataset, being heavily imbalanced, is a classic issue in fraud detection. We've used SMOTE before, but there are other techniques too:\n",
        "\n",
        "    Under-sampling: Reduce the number of regular transactions (horses) to match the number of frauds. However, be cautious: you might lose vital information this way.\n",
        "    Combined SMOTE and Under-sampling: First, increase the frauds using SMOTE and then reduce the genuine transactions to balance.\n",
        "\n",
        "2. Feature Engineering:\n",
        "\n",
        "Expanding our clues to hunt those unicorns. Maybe there are other parameters or combinations of parameters that give clearer signals of a fraud.\n",
        "\n",
        "  Transaction aggregations: For example, calculating the average transaction amount for a user over a day and comparing it with the current transaction.\n",
        "    \n",
        "  Time-based features: Like, is there a specific time when frauds are more likely?\n",
        "\n",
        "3. More Advanced Models:\n",
        "\n",
        "LSTM is powerful, but there are other architectures and algorithms worth trying:\n",
        "\n",
        "  GRU (Gated Recurrent Units): Similar to LSTM but can be faster and just as effective in some cases.\n",
        "  \n",
        "  1D Convolutional Neural Networks: Great for sequence data, and sometimes combined with LSTM/GRU layers.\n",
        "  \n",
        "  Ensemble methods: Like combining predictions from Random Forest, Gradient Boosting, and Neural Networks to get a more robust result.\n",
        "\n",
        "4. Hyperparameter Tuning:\n",
        "\n",
        "  Use tools like GridSearchCV or RandomizedSearchCV to find the optimal parameters for your model. Think of it as adjusting the focus on a telescope to get the clearest view of stars (or in our case, unicorns).\n",
        "\n",
        "5. Evaluation Metric:\n",
        "\n",
        "Given our problem, accuracy isn't the best metric. We should prioritize Recall (to catch as many frauds as possible) but also keep an eye on Precision (to avoid too many false alarms).\n",
        "6. Threshold Tuning:\n",
        "\n",
        "After training, instead of using the default 0.5 threshold for classification, adjust it to find the sweet spot where Recall and Precision are balanced. Imagine this as adjusting the sensitivity of our unicorn detector.\n",
        "7. Regularization:\n",
        "\n",
        "Adding L1 or L2 regularization can prevent overfitting and make the model generalize better on unseen data.\n",
        "\n",
        "Remember, in the wild world of machine learning, especially with fraud detection, there's no one-size-fits-all solution. It's a cycle of trying, learning, and refining. Let's give these steps a shot and see how close we get to becoming the ultimate unicorn hunter! 🦄🔍"
      ],
      "metadata": {
        "id": "zrhSAf7ZCJYX"
      }
    },
    {
      "cell_type": "code",
      "execution_count": null,
      "metadata": {
        "id": "4J53dDu-96ZH",
        "colab": {
          "base_uri": "https://localhost:8080/"
        },
        "outputId": "8025ca49-28ab-4a62-ddd0-7280dc4a98b7"
      },
      "outputs": [
        {
          "output_type": "stream",
          "name": "stdout",
          "text": [
            "Requirement already satisfied: tensorflow in /usr/local/lib/python3.10/dist-packages (2.12.0)\n",
            "Requirement already satisfied: absl-py>=1.0.0 in /usr/local/lib/python3.10/dist-packages (from tensorflow) (1.4.0)\n",
            "Requirement already satisfied: astunparse>=1.6.0 in /usr/local/lib/python3.10/dist-packages (from tensorflow) (1.6.3)\n",
            "Requirement already satisfied: flatbuffers>=2.0 in /usr/local/lib/python3.10/dist-packages (from tensorflow) (23.5.26)\n",
            "Requirement already satisfied: gast<=0.4.0,>=0.2.1 in /usr/local/lib/python3.10/dist-packages (from tensorflow) (0.4.0)\n",
            "Requirement already satisfied: google-pasta>=0.1.1 in /usr/local/lib/python3.10/dist-packages (from tensorflow) (0.2.0)\n",
            "Requirement already satisfied: grpcio<2.0,>=1.24.3 in /usr/local/lib/python3.10/dist-packages (from tensorflow) (1.57.0)\n",
            "Requirement already satisfied: h5py>=2.9.0 in /usr/local/lib/python3.10/dist-packages (from tensorflow) (3.9.0)\n",
            "Requirement already satisfied: jax>=0.3.15 in /usr/local/lib/python3.10/dist-packages (from tensorflow) (0.4.14)\n",
            "Requirement already satisfied: keras<2.13,>=2.12.0 in /usr/local/lib/python3.10/dist-packages (from tensorflow) (2.12.0)\n",
            "Requirement already satisfied: libclang>=13.0.0 in /usr/local/lib/python3.10/dist-packages (from tensorflow) (16.0.6)\n",
            "Requirement already satisfied: numpy<1.24,>=1.22 in /usr/local/lib/python3.10/dist-packages (from tensorflow) (1.23.5)\n",
            "Requirement already satisfied: opt-einsum>=2.3.2 in /usr/local/lib/python3.10/dist-packages (from tensorflow) (3.3.0)\n",
            "Requirement already satisfied: packaging in /usr/local/lib/python3.10/dist-packages (from tensorflow) (23.1)\n",
            "Requirement already satisfied: protobuf!=4.21.0,!=4.21.1,!=4.21.2,!=4.21.3,!=4.21.4,!=4.21.5,<5.0.0dev,>=3.20.3 in /usr/local/lib/python3.10/dist-packages (from tensorflow) (3.20.3)\n",
            "Requirement already satisfied: setuptools in /usr/local/lib/python3.10/dist-packages (from tensorflow) (67.7.2)\n",
            "Requirement already satisfied: six>=1.12.0 in /usr/local/lib/python3.10/dist-packages (from tensorflow) (1.16.0)\n",
            "Requirement already satisfied: tensorboard<2.13,>=2.12 in /usr/local/lib/python3.10/dist-packages (from tensorflow) (2.12.3)\n",
            "Requirement already satisfied: tensorflow-estimator<2.13,>=2.12.0 in /usr/local/lib/python3.10/dist-packages (from tensorflow) (2.12.0)\n",
            "Requirement already satisfied: termcolor>=1.1.0 in /usr/local/lib/python3.10/dist-packages (from tensorflow) (2.3.0)\n",
            "Requirement already satisfied: typing-extensions>=3.6.6 in /usr/local/lib/python3.10/dist-packages (from tensorflow) (4.7.1)\n",
            "Requirement already satisfied: wrapt<1.15,>=1.11.0 in /usr/local/lib/python3.10/dist-packages (from tensorflow) (1.14.1)\n",
            "Requirement already satisfied: tensorflow-io-gcs-filesystem>=0.23.1 in /usr/local/lib/python3.10/dist-packages (from tensorflow) (0.33.0)\n",
            "Requirement already satisfied: wheel<1.0,>=0.23.0 in /usr/local/lib/python3.10/dist-packages (from astunparse>=1.6.0->tensorflow) (0.41.2)\n",
            "Requirement already satisfied: ml-dtypes>=0.2.0 in /usr/local/lib/python3.10/dist-packages (from jax>=0.3.15->tensorflow) (0.2.0)\n",
            "Requirement already satisfied: scipy>=1.7 in /usr/local/lib/python3.10/dist-packages (from jax>=0.3.15->tensorflow) (1.10.1)\n",
            "Requirement already satisfied: google-auth<3,>=1.6.3 in /usr/local/lib/python3.10/dist-packages (from tensorboard<2.13,>=2.12->tensorflow) (2.17.3)\n",
            "Requirement already satisfied: google-auth-oauthlib<1.1,>=0.5 in /usr/local/lib/python3.10/dist-packages (from tensorboard<2.13,>=2.12->tensorflow) (1.0.0)\n",
            "Requirement already satisfied: markdown>=2.6.8 in /usr/local/lib/python3.10/dist-packages (from tensorboard<2.13,>=2.12->tensorflow) (3.4.4)\n",
            "Requirement already satisfied: requests<3,>=2.21.0 in /usr/local/lib/python3.10/dist-packages (from tensorboard<2.13,>=2.12->tensorflow) (2.31.0)\n",
            "Requirement already satisfied: tensorboard-data-server<0.8.0,>=0.7.0 in /usr/local/lib/python3.10/dist-packages (from tensorboard<2.13,>=2.12->tensorflow) (0.7.1)\n",
            "Requirement already satisfied: werkzeug>=1.0.1 in /usr/local/lib/python3.10/dist-packages (from tensorboard<2.13,>=2.12->tensorflow) (2.3.7)\n",
            "Requirement already satisfied: cachetools<6.0,>=2.0.0 in /usr/local/lib/python3.10/dist-packages (from google-auth<3,>=1.6.3->tensorboard<2.13,>=2.12->tensorflow) (5.3.1)\n",
            "Requirement already satisfied: pyasn1-modules>=0.2.1 in /usr/local/lib/python3.10/dist-packages (from google-auth<3,>=1.6.3->tensorboard<2.13,>=2.12->tensorflow) (0.3.0)\n",
            "Requirement already satisfied: rsa<5,>=3.1.4 in /usr/local/lib/python3.10/dist-packages (from google-auth<3,>=1.6.3->tensorboard<2.13,>=2.12->tensorflow) (4.9)\n",
            "Requirement already satisfied: requests-oauthlib>=0.7.0 in /usr/local/lib/python3.10/dist-packages (from google-auth-oauthlib<1.1,>=0.5->tensorboard<2.13,>=2.12->tensorflow) (1.3.1)\n",
            "Requirement already satisfied: charset-normalizer<4,>=2 in /usr/local/lib/python3.10/dist-packages (from requests<3,>=2.21.0->tensorboard<2.13,>=2.12->tensorflow) (3.2.0)\n",
            "Requirement already satisfied: idna<4,>=2.5 in /usr/local/lib/python3.10/dist-packages (from requests<3,>=2.21.0->tensorboard<2.13,>=2.12->tensorflow) (3.4)\n",
            "Requirement already satisfied: urllib3<3,>=1.21.1 in /usr/local/lib/python3.10/dist-packages (from requests<3,>=2.21.0->tensorboard<2.13,>=2.12->tensorflow) (2.0.4)\n",
            "Requirement already satisfied: certifi>=2017.4.17 in /usr/local/lib/python3.10/dist-packages (from requests<3,>=2.21.0->tensorboard<2.13,>=2.12->tensorflow) (2023.7.22)\n",
            "Requirement already satisfied: MarkupSafe>=2.1.1 in /usr/local/lib/python3.10/dist-packages (from werkzeug>=1.0.1->tensorboard<2.13,>=2.12->tensorflow) (2.1.3)\n",
            "Requirement already satisfied: pyasn1<0.6.0,>=0.4.6 in /usr/local/lib/python3.10/dist-packages (from pyasn1-modules>=0.2.1->google-auth<3,>=1.6.3->tensorboard<2.13,>=2.12->tensorflow) (0.5.0)\n",
            "Requirement already satisfied: oauthlib>=3.0.0 in /usr/local/lib/python3.10/dist-packages (from requests-oauthlib>=0.7.0->google-auth-oauthlib<1.1,>=0.5->tensorboard<2.13,>=2.12->tensorflow) (3.2.2)\n",
            "Requirement already satisfied: imbalanced-learn in /usr/local/lib/python3.10/dist-packages (0.10.1)\n",
            "Requirement already satisfied: numpy>=1.17.3 in /usr/local/lib/python3.10/dist-packages (from imbalanced-learn) (1.23.5)\n",
            "Requirement already satisfied: scipy>=1.3.2 in /usr/local/lib/python3.10/dist-packages (from imbalanced-learn) (1.10.1)\n",
            "Requirement already satisfied: scikit-learn>=1.0.2 in /usr/local/lib/python3.10/dist-packages (from imbalanced-learn) (1.2.2)\n",
            "Requirement already satisfied: joblib>=1.1.1 in /usr/local/lib/python3.10/dist-packages (from imbalanced-learn) (1.3.2)\n",
            "Requirement already satisfied: threadpoolctl>=2.0.0 in /usr/local/lib/python3.10/dist-packages (from imbalanced-learn) (3.2.0)\n"
          ]
        }
      ],
      "source": [
        "!pip install tensorflow\n",
        "!pip install imbalanced-learn\n",
        "\n",
        "import pandas as pd\n",
        "import numpy as np\n",
        "import tensorflow as tf\n",
        "from sklearn.preprocessing import MinMaxScaler\n",
        "from sklearn.model_selection import train_test_split\n",
        "from sklearn.metrics import classification_report\n",
        "from tensorflow.keras.models import Sequential\n",
        "from tensorflow.keras.layers import LSTM, Dense, Dropout\n",
        "from tensorflow.keras.callbacks import EarlyStopping\n",
        "from imblearn.over_sampling import SMOTE"
      ]
    },
    {
      "cell_type": "code",
      "source": [
        "from google.colab import files\n",
        "\n",
        "uploaded = files.upload()\n",
        "\n",
        "# Assuming the dataset is named \"paysim.csv\"\n",
        "data = pd.read_csv('paysim.csv')"
      ],
      "metadata": {
        "colab": {
          "base_uri": "https://localhost:8080/",
          "height": 76
        },
        "id": "kP5QN1B9DAij",
        "outputId": "16bfd1e9-9460-42ad-ae17-f949564d8b26"
      },
      "execution_count": null,
      "outputs": [
        {
          "output_type": "display_data",
          "data": {
            "text/plain": [
              "<IPython.core.display.HTML object>"
            ],
            "text/html": [
              "\n",
              "     <input type=\"file\" id=\"files-1642fe2f-c512-489f-b3d9-89f99b0d3697\" name=\"files[]\" multiple disabled\n",
              "        style=\"border:none\" />\n",
              "     <output id=\"result-1642fe2f-c512-489f-b3d9-89f99b0d3697\">\n",
              "      Upload widget is only available when the cell has been executed in the\n",
              "      current browser session. Please rerun this cell to enable.\n",
              "      </output>\n",
              "      <script>// Copyright 2017 Google LLC\n",
              "//\n",
              "// Licensed under the Apache License, Version 2.0 (the \"License\");\n",
              "// you may not use this file except in compliance with the License.\n",
              "// You may obtain a copy of the License at\n",
              "//\n",
              "//      http://www.apache.org/licenses/LICENSE-2.0\n",
              "//\n",
              "// Unless required by applicable law or agreed to in writing, software\n",
              "// distributed under the License is distributed on an \"AS IS\" BASIS,\n",
              "// WITHOUT WARRANTIES OR CONDITIONS OF ANY KIND, either express or implied.\n",
              "// See the License for the specific language governing permissions and\n",
              "// limitations under the License.\n",
              "\n",
              "/**\n",
              " * @fileoverview Helpers for google.colab Python module.\n",
              " */\n",
              "(function(scope) {\n",
              "function span(text, styleAttributes = {}) {\n",
              "  const element = document.createElement('span');\n",
              "  element.textContent = text;\n",
              "  for (const key of Object.keys(styleAttributes)) {\n",
              "    element.style[key] = styleAttributes[key];\n",
              "  }\n",
              "  return element;\n",
              "}\n",
              "\n",
              "// Max number of bytes which will be uploaded at a time.\n",
              "const MAX_PAYLOAD_SIZE = 100 * 1024;\n",
              "\n",
              "function _uploadFiles(inputId, outputId) {\n",
              "  const steps = uploadFilesStep(inputId, outputId);\n",
              "  const outputElement = document.getElementById(outputId);\n",
              "  // Cache steps on the outputElement to make it available for the next call\n",
              "  // to uploadFilesContinue from Python.\n",
              "  outputElement.steps = steps;\n",
              "\n",
              "  return _uploadFilesContinue(outputId);\n",
              "}\n",
              "\n",
              "// This is roughly an async generator (not supported in the browser yet),\n",
              "// where there are multiple asynchronous steps and the Python side is going\n",
              "// to poll for completion of each step.\n",
              "// This uses a Promise to block the python side on completion of each step,\n",
              "// then passes the result of the previous step as the input to the next step.\n",
              "function _uploadFilesContinue(outputId) {\n",
              "  const outputElement = document.getElementById(outputId);\n",
              "  const steps = outputElement.steps;\n",
              "\n",
              "  const next = steps.next(outputElement.lastPromiseValue);\n",
              "  return Promise.resolve(next.value.promise).then((value) => {\n",
              "    // Cache the last promise value to make it available to the next\n",
              "    // step of the generator.\n",
              "    outputElement.lastPromiseValue = value;\n",
              "    return next.value.response;\n",
              "  });\n",
              "}\n",
              "\n",
              "/**\n",
              " * Generator function which is called between each async step of the upload\n",
              " * process.\n",
              " * @param {string} inputId Element ID of the input file picker element.\n",
              " * @param {string} outputId Element ID of the output display.\n",
              " * @return {!Iterable<!Object>} Iterable of next steps.\n",
              " */\n",
              "function* uploadFilesStep(inputId, outputId) {\n",
              "  const inputElement = document.getElementById(inputId);\n",
              "  inputElement.disabled = false;\n",
              "\n",
              "  const outputElement = document.getElementById(outputId);\n",
              "  outputElement.innerHTML = '';\n",
              "\n",
              "  const pickedPromise = new Promise((resolve) => {\n",
              "    inputElement.addEventListener('change', (e) => {\n",
              "      resolve(e.target.files);\n",
              "    });\n",
              "  });\n",
              "\n",
              "  const cancel = document.createElement('button');\n",
              "  inputElement.parentElement.appendChild(cancel);\n",
              "  cancel.textContent = 'Cancel upload';\n",
              "  const cancelPromise = new Promise((resolve) => {\n",
              "    cancel.onclick = () => {\n",
              "      resolve(null);\n",
              "    };\n",
              "  });\n",
              "\n",
              "  // Wait for the user to pick the files.\n",
              "  const files = yield {\n",
              "    promise: Promise.race([pickedPromise, cancelPromise]),\n",
              "    response: {\n",
              "      action: 'starting',\n",
              "    }\n",
              "  };\n",
              "\n",
              "  cancel.remove();\n",
              "\n",
              "  // Disable the input element since further picks are not allowed.\n",
              "  inputElement.disabled = true;\n",
              "\n",
              "  if (!files) {\n",
              "    return {\n",
              "      response: {\n",
              "        action: 'complete',\n",
              "      }\n",
              "    };\n",
              "  }\n",
              "\n",
              "  for (const file of files) {\n",
              "    const li = document.createElement('li');\n",
              "    li.append(span(file.name, {fontWeight: 'bold'}));\n",
              "    li.append(span(\n",
              "        `(${file.type || 'n/a'}) - ${file.size} bytes, ` +\n",
              "        `last modified: ${\n",
              "            file.lastModifiedDate ? file.lastModifiedDate.toLocaleDateString() :\n",
              "                                    'n/a'} - `));\n",
              "    const percent = span('0% done');\n",
              "    li.appendChild(percent);\n",
              "\n",
              "    outputElement.appendChild(li);\n",
              "\n",
              "    const fileDataPromise = new Promise((resolve) => {\n",
              "      const reader = new FileReader();\n",
              "      reader.onload = (e) => {\n",
              "        resolve(e.target.result);\n",
              "      };\n",
              "      reader.readAsArrayBuffer(file);\n",
              "    });\n",
              "    // Wait for the data to be ready.\n",
              "    let fileData = yield {\n",
              "      promise: fileDataPromise,\n",
              "      response: {\n",
              "        action: 'continue',\n",
              "      }\n",
              "    };\n",
              "\n",
              "    // Use a chunked sending to avoid message size limits. See b/62115660.\n",
              "    let position = 0;\n",
              "    do {\n",
              "      const length = Math.min(fileData.byteLength - position, MAX_PAYLOAD_SIZE);\n",
              "      const chunk = new Uint8Array(fileData, position, length);\n",
              "      position += length;\n",
              "\n",
              "      const base64 = btoa(String.fromCharCode.apply(null, chunk));\n",
              "      yield {\n",
              "        response: {\n",
              "          action: 'append',\n",
              "          file: file.name,\n",
              "          data: base64,\n",
              "        },\n",
              "      };\n",
              "\n",
              "      let percentDone = fileData.byteLength === 0 ?\n",
              "          100 :\n",
              "          Math.round((position / fileData.byteLength) * 100);\n",
              "      percent.textContent = `${percentDone}% done`;\n",
              "\n",
              "    } while (position < fileData.byteLength);\n",
              "  }\n",
              "\n",
              "  // All done.\n",
              "  yield {\n",
              "    response: {\n",
              "      action: 'complete',\n",
              "    }\n",
              "  };\n",
              "}\n",
              "\n",
              "scope.google = scope.google || {};\n",
              "scope.google.colab = scope.google.colab || {};\n",
              "scope.google.colab._files = {\n",
              "  _uploadFiles,\n",
              "  _uploadFilesContinue,\n",
              "};\n",
              "})(self);\n",
              "</script> "
            ]
          },
          "metadata": {}
        },
        {
          "output_type": "stream",
          "name": "stdout",
          "text": [
            "Saving paysim.csv to paysim.csv\n"
          ]
        }
      ]
    },
    {
      "cell_type": "markdown",
      "source": [
        "\n",
        "\n",
        "Data Preprocessing:\n",
        "\n",
        "This will be a basic preprocessing to get started:\n"
      ],
      "metadata": {
        "id": "RJIV2viVIkDw"
      }
    },
    {
      "cell_type": "code",
      "source": [
        "# Dropping columns that may not be required for this basic model\n",
        "data = data.drop(['nameOrig', 'nameDest', 'isFlaggedFraud'], axis=1)\n",
        "\n",
        "# Convert categorical columns to numerical values\n",
        "data = pd.get_dummies(data, columns=['type'], drop_first=True)\n",
        "\n",
        "# Normalize the features\n",
        "scaler = MinMaxScaler()\n",
        "data[['amount', 'oldbalanceOrg', 'newbalanceOrig', 'oldbalanceDest', 'newbalanceDest']] = scaler.fit_transform(data[['amount', 'oldbalanceOrg', 'newbalanceOrig', 'oldbalanceDest', 'newbalanceDest']])\n",
        "\n",
        "# Splitting data into features and target variable\n",
        "X = data.drop('isFraud', axis=1).values\n",
        "y = data['isFraud'].values\n",
        "\n",
        "# Split the dataset into train and test sets\n",
        "X_train, X_test, y_train, y_test = train_test_split(X, y, test_size=0.2, random_state=42)\n",
        "\n",
        "# Reshape input to be 3D for LSTM [samples, timesteps, features]\n",
        "X_train = X_train.reshape((X_train.shape[0], 1, X_train.shape[1]))\n",
        "X_test = X_test.reshape((X_test.shape[0], 1, X_test.shape[1]))\n"
      ],
      "metadata": {
        "id": "B6qAt6mRIrJu"
      },
      "execution_count": null,
      "outputs": []
    },
    {
      "cell_type": "markdown",
      "source": [
        "1. Handling Class Imbalance with SMOTE:\n",
        "\n",
        "First, we'll use the SMOTE technique to address the class imbalance issue before splitting the data."
      ],
      "metadata": {
        "id": "5Bs1NovsIxAy"
      }
    },
    {
      "cell_type": "code",
      "source": [
        "from imblearn.over_sampling import SMOTE\n",
        "\n",
        "# Make sure X_train is 2D\n",
        "if len(X_train.shape) == 3:\n",
        "    X_train = X_train.reshape(X_train.shape[0], X_train.shape[2])\n",
        "\n",
        "smote = SMOTE(random_state=42)\n",
        "X_resampled, y_resampled = smote.fit_resample(X_train, y_train)\n",
        "\n",
        "# Splitting the resampled data\n",
        "X_train_resampled, X_test_resampled, y_train_resampled, y_test_resampled = train_test_split(X_resampled, y_resampled, test_size=0.2, random_state=42)\n",
        "\n",
        "# Now, reshape the data for LSTM\n",
        "X_train_resampled = X_train_resampled.reshape((X_train_resampled.shape[0], 1, X_train_resampled.shape[1]))\n",
        "X_test_resampled = X_test_resampled.reshape((X_test_resampled.shape[0], 1, X_test_resampled.shape[1]))\n",
        "\n"
      ],
      "metadata": {
        "id": "lvx4w3w7I2d6"
      },
      "execution_count": null,
      "outputs": []
    },
    {
      "cell_type": "markdown",
      "source": [
        "2. Adjusting LSTM Model:\n",
        "\n",
        "We'll modify the LSTM model structure, introducing more layers and nodes."
      ],
      "metadata": {
        "id": "KQ4v-LEPJ26L"
      }
    },
    {
      "cell_type": "code",
      "source": [
        "model = Sequential()\n",
        "model.add(LSTM(128, return_sequences=True, input_shape=(X_train_resampled.shape[1], X_train_resampled.shape[2])))\n",
        "model.add(Dropout(0.3))\n",
        "model.add(LSTM(64, return_sequences=True))\n",
        "model.add(Dropout(0.3))\n",
        "model.add(LSTM(32))\n",
        "model.add(Dense(1, activation='sigmoid'))\n",
        "\n",
        "model.compile(optimizer='adam', loss='binary_crossentropy', metrics=['accuracy'])\n"
      ],
      "metadata": {
        "id": "FdNAPWjhJ3mN"
      },
      "execution_count": null,
      "outputs": []
    },
    {
      "cell_type": "markdown",
      "source": [
        "3. Training with Early Stopping:\n",
        "\n",
        "To avoid overfitting and ensure the model stops training once the validation loss stops improving, we'll use Early Stopping."
      ],
      "metadata": {
        "id": "kq9cnQ72KIdx"
      }
    },
    {
      "cell_type": "code",
      "source": [
        "from keras.callbacks import EarlyStopping\n",
        "\n",
        "es = EarlyStopping(monitor='val_loss', mode='min', verbose=1, patience=10)\n",
        "history = model.fit(X_train_resampled, y_train_resampled, epochs=100, batch_size=64, validation_split=0.2, verbose=2, callbacks=[es])\n"
      ],
      "metadata": {
        "colab": {
          "base_uri": "https://localhost:8080/"
        },
        "id": "ts_EpSPeKJJx",
        "outputId": "01168501-987b-4a63-b82b-425fd04ec70d"
      },
      "execution_count": null,
      "outputs": [
        {
          "output_type": "stream",
          "name": "stdout",
          "text": [
            "Epoch 1/100\n",
            "101671/101671 - 1019s - loss: 0.2431 - accuracy: 0.8897 - val_loss: 0.1526 - val_accuracy: 0.9399 - 1019s/epoch - 10ms/step\n",
            "Epoch 2/100\n",
            "101671/101671 - 995s - loss: 0.1779 - accuracy: 0.9249 - val_loss: 0.1661 - val_accuracy: 0.9257 - 995s/epoch - 10ms/step\n",
            "Epoch 3/100\n",
            "101671/101671 - 990s - loss: 0.1560 - accuracy: 0.9352 - val_loss: 0.1128 - val_accuracy: 0.9562 - 990s/epoch - 10ms/step\n",
            "Epoch 4/100\n",
            "101671/101671 - 965s - loss: 0.1420 - accuracy: 0.9415 - val_loss: 0.0960 - val_accuracy: 0.9617 - 965s/epoch - 9ms/step\n",
            "Epoch 5/100\n",
            "101671/101671 - 949s - loss: 0.1313 - accuracy: 0.9466 - val_loss: 0.0989 - val_accuracy: 0.9619 - 949s/epoch - 9ms/step\n",
            "Epoch 6/100\n",
            "101671/101671 - 952s - loss: 0.1230 - accuracy: 0.9501 - val_loss: 0.1002 - val_accuracy: 0.9623 - 952s/epoch - 9ms/step\n",
            "Epoch 7/100\n",
            "101671/101671 - 959s - loss: 0.1176 - accuracy: 0.9526 - val_loss: 0.1020 - val_accuracy: 0.9645 - 959s/epoch - 9ms/step\n",
            "Epoch 8/100\n",
            "101671/101671 - 967s - loss: 0.1171 - accuracy: 0.9531 - val_loss: 0.1153 - val_accuracy: 0.9535 - 967s/epoch - 10ms/step\n",
            "Epoch 9/100\n",
            "101671/101671 - 950s - loss: 0.1124 - accuracy: 0.9552 - val_loss: 0.0714 - val_accuracy: 0.9721 - 950s/epoch - 9ms/step\n",
            "Epoch 10/100\n",
            "101671/101671 - 945s - loss: 0.1139 - accuracy: 0.9546 - val_loss: 0.0747 - val_accuracy: 0.9732 - 945s/epoch - 9ms/step\n",
            "Epoch 11/100\n",
            "101671/101671 - 954s - loss: 0.1143 - accuracy: 0.9544 - val_loss: 0.1444 - val_accuracy: 0.9299 - 954s/epoch - 9ms/step\n",
            "Epoch 12/100\n",
            "101671/101671 - 960s - loss: 0.1102 - accuracy: 0.9561 - val_loss: 0.0891 - val_accuracy: 0.9661 - 960s/epoch - 9ms/step\n",
            "Epoch 13/100\n",
            "101671/101671 - 954s - loss: 0.1074 - accuracy: 0.9574 - val_loss: 0.1126 - val_accuracy: 0.9484 - 954s/epoch - 9ms/step\n",
            "Epoch 14/100\n",
            "101671/101671 - 960s - loss: 0.1076 - accuracy: 0.9572 - val_loss: 0.1704 - val_accuracy: 0.9274 - 960s/epoch - 9ms/step\n",
            "Epoch 15/100\n",
            "101671/101671 - 977s - loss: 0.1038 - accuracy: 0.9588 - val_loss: 0.0544 - val_accuracy: 0.9805 - 977s/epoch - 10ms/step\n",
            "Epoch 16/100\n",
            "101671/101671 - 969s - loss: 0.1038 - accuracy: 0.9589 - val_loss: 0.0756 - val_accuracy: 0.9732 - 969s/epoch - 10ms/step\n",
            "Epoch 17/100\n",
            "101671/101671 - 983s - loss: 0.1007 - accuracy: 0.9602 - val_loss: 0.0658 - val_accuracy: 0.9777 - 983s/epoch - 10ms/step\n",
            "Epoch 18/100\n",
            "101671/101671 - 1034s - loss: 0.0995 - accuracy: 0.9609 - val_loss: 0.1025 - val_accuracy: 0.9575 - 1034s/epoch - 10ms/step\n",
            "Epoch 19/100\n",
            "101671/101671 - 1042s - loss: 0.0963 - accuracy: 0.9621 - val_loss: 0.0573 - val_accuracy: 0.9802 - 1042s/epoch - 10ms/step\n",
            "Epoch 20/100\n",
            "101671/101671 - 1028s - loss: 0.0964 - accuracy: 0.9621 - val_loss: 0.0673 - val_accuracy: 0.9753 - 1028s/epoch - 10ms/step\n",
            "Epoch 21/100\n",
            "101671/101671 - 1048s - loss: 0.0962 - accuracy: 0.9622 - val_loss: 0.0689 - val_accuracy: 0.9742 - 1048s/epoch - 10ms/step\n",
            "Epoch 22/100\n",
            "101671/101671 - 1076s - loss: 0.0952 - accuracy: 0.9626 - val_loss: 0.0563 - val_accuracy: 0.9809 - 1076s/epoch - 11ms/step\n",
            "Epoch 23/100\n",
            "101671/101671 - 1148s - loss: 0.0925 - accuracy: 0.9637 - val_loss: 0.1386 - val_accuracy: 0.9356 - 1148s/epoch - 11ms/step\n",
            "Epoch 24/100\n",
            "101671/101671 - 1081s - loss: 0.0950 - accuracy: 0.9626 - val_loss: 0.0659 - val_accuracy: 0.9738 - 1081s/epoch - 11ms/step\n",
            "Epoch 25/100\n",
            "101671/101671 - 1053s - loss: 0.0905 - accuracy: 0.9645 - val_loss: 0.2428 - val_accuracy: 0.8927 - 1053s/epoch - 10ms/step\n",
            "Epoch 25: early stopping\n"
          ]
        }
      ]
    },
    {
      "cell_type": "markdown",
      "source": [
        "4. Model Evaluation:\n",
        "\n",
        "Once the model has been trained, evaluate its performance using the test set."
      ],
      "metadata": {
        "id": "dM_U3XOkKUyY"
      }
    },
    {
      "cell_type": "code",
      "source": [
        "y_pred = model.predict(X_test_resampled)\n",
        "y_pred = (y_pred > 0.5).astype(int).flatten()\n",
        "\n",
        "from sklearn.metrics import classification_report\n",
        "print(classification_report(y_test_resampled, y_pred))\n"
      ],
      "metadata": {
        "colab": {
          "base_uri": "https://localhost:8080/"
        },
        "id": "fhDQ0jAWKWc3",
        "outputId": "d83791d6-1918-4fb3-a9e7-a7bc311cb478"
      },
      "execution_count": null,
      "outputs": [
        {
          "output_type": "stream",
          "name": "stdout",
          "text": [
            "63544/63544 [==============================] - 189s 3ms/step\n",
            "              precision    recall  f1-score   support\n",
            "\n",
            "           0       0.83      1.00      0.90   1017028\n",
            "           1       1.00      0.79      0.88   1016374\n",
            "\n",
            "    accuracy                           0.89   2033402\n",
            "   macro avg       0.91      0.89      0.89   2033402\n",
            "weighted avg       0.91      0.89      0.89   2033402\n",
            "\n"
          ]
        }
      ]
    },
    {
      "cell_type": "markdown",
      "source": [
        "These are just a few steps to help improve your model. Depending on the results, further refinements might include additional feature engineering, hyperparameter tuning, or even integrating other models into an ensemble. Remember, the aim is to boost the recall for the fraudulent class while keeping precision at an acceptable level."
      ],
      "metadata": {
        "id": "FrFPpAxYKY0e"
      }
    },
    {
      "cell_type": "code",
      "source": [],
      "metadata": {
        "id": "ylI5uFa9KcEy"
      },
      "execution_count": null,
      "outputs": []
    }
  ]
}